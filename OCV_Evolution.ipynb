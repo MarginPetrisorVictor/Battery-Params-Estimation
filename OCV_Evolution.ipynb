{
 "cells": [
  {
   "cell_type": "markdown",
   "id": "6a80e993-b920-44cb-a5db-30c4a8358557",
   "metadata": {},
   "source": [
    "## **Li-Ion Battery Parameters Estimation**\n",
    "\n",
    "This project has the objective to analyze the charging/discharging process based on NASA Li-Ion datasets regarding the Stat of Health (SoH) degradation. In order to start this topic, we have to define a model and what parameters may vary. For that we start with the electrical model of a battery which is described as it follows:\n",
    "$$ V = V_{OCV}(SoC(t)) + R_0i(t) + \\sum_{k = 1}^{N} V_{c,i}(t) $$\n",
    "Here is depicted the output voltage V, which is computed by adding the open-circuit voltage $V_{OCV}$, the internal voltage drop computed by $R_0i(t)$ and also the voltage drops across each RC filter structure ($V_{c,i}$). The problem that arises from this model definition is that the open-circuit voltage is highly non-linear with regards to the State of Charge ($SoC$). \n",
    "\n",
    "The tools used in this project are declared bellow."
   ]
  },
  {
   "cell_type": "code",
   "execution_count": 36,
   "id": "2fe7e1a8-5ba0-45d5-9c11-2372f5ca3536",
   "metadata": {},
   "outputs": [],
   "source": [
    "import os\n",
    "import pandas as pd\n",
    "import numpy as np\n",
    "import matplotlib.pyplot as plt\n",
    "import statsmodels.api as sm\n",
    "from sklearn.linear_model import LinearRegression\n",
    "from sklearn.preprocessing import PolynomialFeatures"
   ]
  },
  {
   "cell_type": "markdown",
   "id": "5cf9c592-f591-41d8-9ade-643075b387f6",
   "metadata": {},
   "source": [
    "Short description for every library used in this project:\n",
    "1. The os library is used for file manipulation (path creation or directory iteration)\n",
    "2. The pandas library is used to work the given data (read the csv files or save to a csv)\n",
    "3. Numpy is used in order to better integrate numerical data in vectors or matrices.\n",
    "4. Matplotlib is needed for data visualization\n",
    "5. Statsmodel provides the tools necessary for data filtration\n",
    "6. Scikit Learn gives the project all the needed tools to create Machine Learning models.\n",
    "\n",
    "The following function is used in order to read the data that is given in a csv format and returns the state of charge and voltage extracted. It also makes sure that the data is reliable by taking only the part that represents viable data."
   ]
  },
  {
   "cell_type": "code",
   "execution_count": 2,
   "id": "e63d697d-3f03-456e-aac8-d2470505486d",
   "metadata": {},
   "outputs": [],
   "source": [
    "def process_data(file_path):\n",
    "    data = pd.read_csv(file_path)\n",
    "    last_index = np.argmin(data['Voltage_measured'])\n",
    "    capacity = data['Capacity'][0]\n",
    "    voltage = np.array(data['Voltage_measured'][0 : last_index + 1])\n",
    "    current = np.array(data['Current_measured'][0 : last_index + 1])\n",
    "    time = np.array(data['Time'][0 : last_index + 1])\n",
    "    soc = 1 + current*time/capacity/3600\n",
    "    soc[soc < 0] = 0\n",
    "\n",
    "    return soc, voltage"
   ]
  },
  {
   "cell_type": "markdown",
   "id": "8563b15c-f3b6-4464-8283-1d870bdb2722",
   "metadata": {},
   "source": [
    "The fit_polynomial function takes as inputs the **\"input_data\"** which represents the vector X in a machine learning context, the **\"output_data\"** which represents the taget y and the order for which we want the model to estimate. Also from tests, no bias should be used. The function returns the estimated output and also the parameters of the model."
   ]
  },
  {
   "cell_type": "code",
   "execution_count": 24,
   "id": "22717f89-2967-4c9a-880f-d2b5ffca5746",
   "metadata": {},
   "outputs": [],
   "source": [
    "def fit_polynomial(input_data, output_data, order):\n",
    "    model = LinearRegression()\n",
    "    poly_features = PolynomialFeatures(degree = order, include_bias = False)\n",
    "    input_features = poly_features.fit_transform(input_data.reshape(-1, 1))\n",
    "    \n",
    "    model.fit(input_features, output_data)\n",
    "    voltage_predicted = model.predict(input_features)\n",
    "    \n",
    "    return voltage_predicted, model.coef_"
   ]
  },
  {
   "cell_type": "markdown",
   "id": "780434ac-be4e-44cc-bf05-b6ff94cd6e2c",
   "metadata": {},
   "source": [
    "This is a function that can be used for visualization. To enable it, remove the comment in the next function."
   ]
  },
  {
   "cell_type": "code",
   "execution_count": 4,
   "id": "0a553ec6-3524-447a-8f15-cb37c3b3de65",
   "metadata": {},
   "outputs": [],
   "source": [
    "def plot_comparison(soc, voltage, voltage_predicted):\n",
    "    plt.scatter(soc, voltage, color = 'red', marker = 'x', s = 10)\n",
    "    plt.plot(soc, voltage_predicted, color = 'blue')\n",
    "    plt.xlabel(\"State of Charge (%)\")\n",
    "    plt.ylabel(\"Voltage (V)\")\n",
    "    plt.title(\"Voltage vs State of Charge\")\n",
    "    plt.show()\n",
    "    plt.close()"
   ]
  },
  {
   "cell_type": "markdown",
   "id": "ec78c92f-a1b0-47f1-82c0-675a51dfe361",
   "metadata": {},
   "source": [
    "The **analyze_discharge_data** function takes the order of which we want to identify the system, the folder path to the acctual folder that contains the csv files and the folder output which is the location where the Params.csv file should appear. In the resulted csv file should appear all the parameters estimated with the fit_polynomial function and their evolution."
   ]
  },
  {
   "cell_type": "code",
   "execution_count": 5,
   "id": "1e1f589e-ec7e-4be1-aa65-fc131061cb19",
   "metadata": {},
   "outputs": [],
   "source": [
    "def analyze_discharge_data(order, folder_path, folder_output):\n",
    "    csv_files = [file for file in os.listdir(folder_path) if file.endswith(\".csv\")]\n",
    "    params = []\n",
    "    for file in csv_files:\n",
    "        file_path = os.path.join(folder_path, file)\n",
    "\n",
    "        soc, voltage = process_data(file_path)\n",
    "        voltage_predicted, weights = fit_polynomial(soc, voltage, order)\n",
    "        #plot_comparison(soc, voltage, voltage_predicted)\n",
    "        params.append(weights)\n",
    "\n",
    "    columns = [f\"w{i+1}\" for i in range(order)]\n",
    "    data = pd.DataFrame(params, columns = columns)\n",
    "    output_file_name = os.path.join(folder_output, \"Params.csv\")\n",
    "    data.to_csv(output_file_name, index=False)\n",
    "    print(\"Params successfully saved\")"
   ]
  },
  {
   "cell_type": "code",
   "execution_count": 20,
   "id": "b5faa87a-c2a2-465e-8213-1002fc5ee9bf",
   "metadata": {
    "scrolled": true
   },
   "outputs": [
    {
     "name": "stdout",
     "output_type": "stream",
     "text": [
      "Params successfully saved\n"
     ]
    }
   ],
   "source": [
    "analyze_discharge_data(8, \"datasets/battery_18/Discharge\", \"datasets/battery_18\")"
   ]
  },
  {
   "cell_type": "markdown",
   "id": "a545a6fe-44aa-4442-bd1a-a4e249c72c79",
   "metadata": {},
   "source": [
    "## **Parameters evolution**"
   ]
  },
  {
   "cell_type": "markdown",
   "id": "2f72ae05-2e6d-41b3-97e6-a9647d0629bb",
   "metadata": {},
   "source": [
    "This section is made to visualize the results obtained earlier. Here we can clearly see that the parameters follow a curved trend. To better see this corelation, test all the cases for all the battery presented in the dataset. We also see that this data is quite noisy, so for us to fit a new estimation of the parameters we need first of all to filter the data. Also keep in mind that here we can see the degradation for each parameter estimated before over discharge cycles. One more important observation is that by observing this trend we can decide if the battery is viable or not. So when a battery has parameters that break this trend consistently we can confidently say that the battery is close to it's demise."
   ]
  },
  {
   "cell_type": "code",
   "execution_count": 25,
   "id": "70d8198f-6b6a-4797-ad5a-d76968d4e25e",
   "metadata": {},
   "outputs": [],
   "source": [
    "def plot_weights(csv_file):\n",
    "    data = pd.read_csv(csv_file)\n",
    "    num_weights = len(data.columns)\n",
    "    \n",
    "    for i in range(num_weights):\n",
    "        plt.figure(figsize=(10, 6))\n",
    "        plt.scatter(range(len(data)), data.iloc[:, i], label=f\"Weight {i + 1}\", marker='o')\n",
    "        plt.title(f\"Weight {i + 1} Across Different Datasets\")\n",
    "        plt.xlabel(\"Discharging Cycles\")\n",
    "        plt.ylabel(f\"Weight {i + 1}\")\n",
    "        plt.legend(loc=\"upper right\")\n",
    "        plt.grid(True)\n",
    "        plt.show()"
   ]
  },
  {
   "cell_type": "code",
   "execution_count": null,
   "id": "c4b853c4-2a1e-46d5-8b7d-df9a7b18d61d",
   "metadata": {},
   "outputs": [],
   "source": [
    "plot_weights(\"datasets/battery_18/Params.csv\")"
   ]
  },
  {
   "cell_type": "markdown",
   "id": "5e36fd8a-6891-4315-97ef-6836b1db2f25",
   "metadata": {},
   "source": [
    "## **Parmeters degradation estimation**"
   ]
  },
  {
   "cell_type": "markdown",
   "id": "00851773-1c77-4b3f-8f76-695723d5e5b5",
   "metadata": {},
   "source": [
    "In this section we want to predict the degradation of the parameters that are identified in the first chapter. As mentioned before, a data filtration is needed so the following function filter using the LOWESS method. "
   ]
  },
  {
   "cell_type": "code",
   "execution_count": 73,
   "id": "1c5c13c6-0b98-4d41-a38f-c430869a5614",
   "metadata": {},
   "outputs": [],
   "source": [
    "def filter_training_data(x, y):\n",
    "    filtered_data = sm.nonparametric.lowess(y, x, frac = 0.3)\n",
    "    return filtered_data"
   ]
  },
  {
   "cell_type": "markdown",
   "id": "524d9570-bc20-4a61-82f7-a0e3e6ededa7",
   "metadata": {},
   "source": [
    "Here we visualize the parameters degradation and also we try to fit a function that will be used as a deciding trend which when crossed consistently indicates the death of a battery but also it can be used to know the aproximative state of the battery which can be used in control applications."
   ]
  },
  {
   "cell_type": "code",
   "execution_count": 74,
   "id": "88b1ec7f-6fb7-42e6-8f27-6602c2f0ccec",
   "metadata": {},
   "outputs": [],
   "source": [
    "def estimate_parameters_degradation(csv_file):\n",
    "    data = pd.read_csv(csv_file)\n",
    "    num_weights = len(data.columns)\n",
    "    \n",
    "    for i in range(num_weights):\n",
    "        w_i = data.iloc[:, i]\n",
    "        last_index = np.argmin(w_i)\n",
    "        viable_data = w_i[0: last_index + 1]\n",
    "        discharge_cycles = np.array(range(len(viable_data)))\n",
    "        \n",
    "        training_data = filter_training_data(discharge_cycles, viable_data)\n",
    "        w_i_estimation, params = fit_polynomial(training_data[:, 0], training_data[:, 1], 5)\n",
    "        \n",
    "        plt.figure(figsize = (10,6))\n",
    "        plt.scatter(training_data[:, 0], training_data[:, 1], marker = \"x\", color = \"red\")\n",
    "        plt.plot(training_data[:, 0], w_i_estimation, color = \"blue\")\n",
    "        plt.show()"
   ]
  },
  {
   "cell_type": "code",
   "execution_count": null,
   "id": "6cb95f72-f98b-46ad-b1d4-996f86e8485c",
   "metadata": {
    "scrolled": true
   },
   "outputs": [],
   "source": [
    "estimate_parameters_degradation(\"datasets/battery_18/Params.csv\")"
   ]
  }
 ],
 "metadata": {
  "kernelspec": {
   "display_name": "Python (Machine-Learning-Env)",
   "language": "python",
   "name": "machine-learning-env"
  },
  "language_info": {
   "codemirror_mode": {
    "name": "ipython",
    "version": 3
   },
   "file_extension": ".py",
   "mimetype": "text/x-python",
   "name": "python",
   "nbconvert_exporter": "python",
   "pygments_lexer": "ipython3",
   "version": "3.13.2"
  }
 },
 "nbformat": 4,
 "nbformat_minor": 5
}
